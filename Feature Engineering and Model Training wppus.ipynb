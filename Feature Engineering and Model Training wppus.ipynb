{
 "cells": [
  {
   "attachments": {},
   "cell_type": "markdown",
   "metadata": {},
   "source": [
    "# Model Training\n",
    "\n",
    "\n",
    "### Feature Engineering\n",
    "\n",
    "#### Steps \n",
    "* Exploring Features of the dataset\n",
    "* Handling Missing Values\n",
    "* Feature Engineering\n",
    "* Feature Selection "
   ]
  },
  {
   "attachments": {},
   "cell_type": "markdown",
   "metadata": {},
   "source": [
    "#### Import Packages and CSV"
   ]
  },
  {
   "cell_type": "code",
   "execution_count": 97,
   "metadata": {},
   "outputs": [
    {
     "name": "stdout",
     "output_type": "stream",
     "text": [
      "(266, 7)\n"
     ]
    }
   ],
   "source": [
    "import pandas as pd\n",
    "import numpy as np\n",
    "import matplotlib.pyplot as plt\n",
    "import seaborn as sns\n",
    "import warnings\n",
    "warnings.filterwarnings(\"ignore\")\n",
    "pd.pandas.set_option(\"display.max_columns\", None)\n",
    "# Create Dataframe\n",
    "df = pd.read_csv(\"C:/Users/dhanu/Downloads/New folder/New folder/cleaned_wppus.csv\")\n",
    "\n",
    "# Print shape of dataset\n",
    "print(df.shape)"
   ]
  },
  {
   "cell_type": "code",
   "execution_count": 98,
   "metadata": {},
   "outputs": [
    {
     "data": {
      "text/html": [
       "<div>\n",
       "<style scoped>\n",
       "    .dataframe tbody tr th:only-of-type {\n",
       "        vertical-align: middle;\n",
       "    }\n",
       "\n",
       "    .dataframe tbody tr th {\n",
       "        vertical-align: top;\n",
       "    }\n",
       "\n",
       "    .dataframe thead th {\n",
       "        text-align: right;\n",
       "    }\n",
       "</style>\n",
       "<table border=\"1\" class=\"dataframe\">\n",
       "  <thead>\n",
       "    <tr style=\"text-align: right;\">\n",
       "      <th></th>\n",
       "      <th>other_united_states</th>\n",
       "      <th>other_new_england</th>\n",
       "      <th>other_connecticut</th>\n",
       "      <th>other_maine</th>\n",
       "      <th>wind_minnesota</th>\n",
       "      <th>wind_california</th>\n",
       "      <th>wind_united_states</th>\n",
       "    </tr>\n",
       "  </thead>\n",
       "  <tbody>\n",
       "    <tr>\n",
       "      <th>0</th>\n",
       "      <td>6025</td>\n",
       "      <td>678</td>\n",
       "      <td>75</td>\n",
       "      <td>348</td>\n",
       "      <td>86</td>\n",
       "      <td>133</td>\n",
       "      <td>389</td>\n",
       "    </tr>\n",
       "    <tr>\n",
       "      <th>1</th>\n",
       "      <td>5310</td>\n",
       "      <td>599</td>\n",
       "      <td>77</td>\n",
       "      <td>293</td>\n",
       "      <td>73</td>\n",
       "      <td>148</td>\n",
       "      <td>431</td>\n",
       "    </tr>\n",
       "    <tr>\n",
       "      <th>2</th>\n",
       "      <td>5795</td>\n",
       "      <td>660</td>\n",
       "      <td>96</td>\n",
       "      <td>327</td>\n",
       "      <td>67</td>\n",
       "      <td>300</td>\n",
       "      <td>532</td>\n",
       "    </tr>\n",
       "    <tr>\n",
       "      <th>3</th>\n",
       "      <td>5827</td>\n",
       "      <td>593</td>\n",
       "      <td>92</td>\n",
       "      <td>277</td>\n",
       "      <td>91</td>\n",
       "      <td>393</td>\n",
       "      <td>685</td>\n",
       "    </tr>\n",
       "    <tr>\n",
       "      <th>4</th>\n",
       "      <td>5738</td>\n",
       "      <td>640</td>\n",
       "      <td>72</td>\n",
       "      <td>336</td>\n",
       "      <td>73</td>\n",
       "      <td>378</td>\n",
       "      <td>635</td>\n",
       "    </tr>\n",
       "  </tbody>\n",
       "</table>\n",
       "</div>"
      ],
      "text/plain": [
       "   other_united_states  other_new_england  other_connecticut  other_maine  \\\n",
       "0                 6025                678                 75          348   \n",
       "1                 5310                599                 77          293   \n",
       "2                 5795                660                 96          327   \n",
       "3                 5827                593                 92          277   \n",
       "4                 5738                640                 72          336   \n",
       "\n",
       "   wind_minnesota  wind_california  wind_united_states  \n",
       "0              86              133                 389  \n",
       "1              73              148                 431  \n",
       "2              67              300                 532  \n",
       "3              91              393                 685  \n",
       "4              73              378                 635  "
      ]
     },
     "execution_count": 98,
     "metadata": {},
     "output_type": "execute_result"
    }
   ],
   "source": [
    "df.head()"
   ]
  },
  {
   "attachments": {},
   "cell_type": "markdown",
   "metadata": {},
   "source": [
    "##  Data cleaning and Data Transformation"
   ]
  },
  {
   "attachments": {},
   "cell_type": "markdown",
   "metadata": {},
   "source": [
    "### Feature Extraction"
   ]
  },
  {
   "attachments": {},
   "cell_type": "markdown",
   "metadata": {},
   "source": [
    "In EDA file , wind data has been seperated from other data."
   ]
  },
  {
   "attachments": {},
   "cell_type": "markdown",
   "metadata": {},
   "source": [
    "### Other Data Manipulations"
   ]
  },
  {
   "attachments": {},
   "cell_type": "markdown",
   "metadata": {},
   "source": [
    "* **Based on the In-Sights from EDA, We Drop Columns which are not much impacting the target variable**"
   ]
  },
  {
   "cell_type": "code",
   "execution_count": 99,
   "metadata": {},
   "outputs": [
    {
     "ename": "SyntaxError",
     "evalue": "invalid syntax (<ipython-input-99-a6dd7330ba39>, line 1)",
     "output_type": "error",
     "traceback": [
      "\u001b[1;36m  File \u001b[1;32m\"<ipython-input-99-a6dd7330ba39>\"\u001b[1;36m, line \u001b[1;32m1\u001b[0m\n\u001b[1;33m    No columns dropped\u001b[0m\n\u001b[1;37m             ^\u001b[0m\n\u001b[1;31mSyntaxError\u001b[0m\u001b[1;31m:\u001b[0m invalid syntax\n"
     ]
    }
   ],
   "source": [
    "No columns dropped"
   ]
  },
  {
   "cell_type": "code",
   "execution_count": null,
   "metadata": {},
   "outputs": [],
   "source": [
    "df = df.replace(\n",
    "    to_replace='--', \n",
    "    value=0)\n",
    "\n",
    "df = df.replace(\n",
    "    to_replace='NM', \n",
    "    value=0)\n"
   ]
  },
  {
   "cell_type": "code",
   "execution_count": null,
   "metadata": {},
   "outputs": [],
   "source": [
    "print(df)"
   ]
  },
  {
   "attachments": {},
   "cell_type": "markdown",
   "metadata": {},
   "source": [
    "### Types of Features "
   ]
  },
  {
   "attachments": {},
   "cell_type": "markdown",
   "metadata": {},
   "source": [
    "* **Numerical Features**"
   ]
  },
  {
   "cell_type": "code",
   "execution_count": null,
   "metadata": {},
   "outputs": [
    {
     "name": "stdout",
     "output_type": "stream",
     "text": [
      "Num of Numerical Features : 7\n"
     ]
    }
   ],
   "source": [
    "num_features = [feature for feature in df.columns if df[feature].dtype != 'O']\n",
    "print('Num of Numerical Features :', len(num_features))"
   ]
  },
  {
   "attachments": {},
   "cell_type": "markdown",
   "metadata": {},
   "source": [
    "* **Categorical Features**"
   ]
  },
  {
   "cell_type": "code",
   "execution_count": null,
   "metadata": {},
   "outputs": [
    {
     "name": "stdout",
     "output_type": "stream",
     "text": [
      "Num of Categorical Features : 0\n"
     ]
    }
   ],
   "source": [
    "cat_features = [feature for feature in df.columns if df[feature].dtype == 'O']\n",
    "print('Num of Categorical Features :', len(cat_features))"
   ]
  },
  {
   "attachments": {},
   "cell_type": "markdown",
   "metadata": {},
   "source": [
    "* **Discrete Features**"
   ]
  },
  {
   "cell_type": "code",
   "execution_count": null,
   "metadata": {},
   "outputs": [
    {
     "name": "stdout",
     "output_type": "stream",
     "text": [
      "Num of Discrete Features : 0\n"
     ]
    }
   ],
   "source": [
    "discrete_feature=[feature for feature in num_features if len(df[feature].unique())<=25]\n",
    "print('Num of Discrete Features :',len(discrete_feature))"
   ]
  },
  {
   "cell_type": "code",
   "execution_count": null,
   "metadata": {},
   "outputs": [
    {
     "name": "stdout",
     "output_type": "stream",
     "text": [
      "Num of Year Features : 0\n"
     ]
    }
   ],
   "source": [
    "year_features=[feature for feature in df.columns if 'date' in feature or 'month' in feature]\n",
    "print('Num of Year Features :',len(year_features))\n"
   ]
  },
  {
   "attachments": {},
   "cell_type": "markdown",
   "metadata": {},
   "source": [
    "* **Continues Features**"
   ]
  },
  {
   "cell_type": "code",
   "execution_count": null,
   "metadata": {},
   "outputs": [
    {
     "name": "stdout",
     "output_type": "stream",
     "text": [
      "Num of Continuous Features : 7\n"
     ]
    }
   ],
   "source": [
    "continuous_feature=[feature for feature in num_features if feature not in discrete_feature+year_features]\n",
    "print('Num of Continuous Features :',len(continuous_feature))"
   ]
  },
  {
   "attachments": {},
   "cell_type": "markdown",
   "metadata": {},
   "source": [
    "## Feature Selection"
   ]
  },
  {
   "attachments": {},
   "cell_type": "markdown",
   "metadata": {},
   "source": [
    "* Multicollinearity occurs when there are two or more independent variables in a multiple regression model, which have a high correlation among themselves. When some features are highly correlated.\n",
    "* Multicollinearity can be detected using various techniques, one such technique being the Variance Inflation Factor(VIF)."
   ]
  },
  {
   "attachments": {},
   "cell_type": "markdown",
   "metadata": {
    "slideshow": {
     "slide_type": "notes"
    }
   },
   "source": [
    "### Outlier Removal and Checking Skewness"
   ]
  },
  {
   "attachments": {},
   "cell_type": "markdown",
   "metadata": {},
   "source": [
    "* For Skewed distributions: Use Inter-Quartile Range (IQR) proximity rule.\n",
    "\n",
    "* The data points which fall below Q1 – 1.5 IQR or above Q3 + 1.5 IQR are outliers.\n",
    "\n",
    "* where Q1 and Q3 are the 25th and 75th percentile of the dataset respectively, and IQR represents the inter-quartile range and given by Q3 – Q1."
   ]
  },
  {
   "cell_type": "code",
   "execution_count": null,
   "metadata": {
    "scrolled": false
   },
   "outputs": [
    {
     "data": {
      "image/png": "[encoded data removed]",
      "text/plain": [
       "<Figure size 720x432 with 1 Axes>"
      ]
     },
     "metadata": {
      "needs_background": "light"
     },
     "output_type": "display_data"
    },
    {
     "data": {
      "image/png": "[encoded data removed]",
      "text/plain": [
       "<Figure size 720x432 with 1 Axes>"
      ]
     },
     "metadata": {},
     "output_type": "display_data"
    },
    {
     "data": {
      "image/png": "[encoded data removed]",
      "text/plain": [
       "<Figure size 720x432 with 1 Axes>"
      ]
     },
     "metadata": {},
     "output_type": "display_data"
    },
    {
     "data": {
      "image/png": "[encoded data removed]",
      "text/plain": [
       "<Figure size 720x432 with 1 Axes>"
      ]
     },
     "metadata": {},
     "output_type": "display_data"
    },
    {
     "data": {
      "image/png": "[encoded data removed]",
      "text/plain": [
       "<Figure size 720x432 with 1 Axes>"
      ]
     },
     "metadata": {},
     "output_type": "display_data"
    },
    {
     "data": {
      "image/png": "[encoded data removed]",
      "text/plain": [
       "<Figure size 720x432 with 1 Axes>"
      ]
     },
     "metadata": {},
     "output_type": "display_data"
    },
    {
     "data": {
      "image/png": "[encoded data removed]",
      "text/plain": [
       "<Figure size 720x432 with 1 Axes>"
      ]
     },
     "metadata": {},
     "output_type": "display_data"
    }
   ],
   "source": [
    "for i in continuous_feature:\n",
    "        plt.figure(figsize=(10,6))\n",
    "        sns.set_style('ticks')\n",
    "        ax = sns.boxplot(df[i])"
   ]
  },
  {
   "cell_type": "code",
   "execution_count": null,
   "metadata": {},
   "outputs": [],
   "source": [
    "def detect_outliers(col):\n",
    "    # Finding the IQR\n",
    "    percentile25 = df[col].quantile(0.25)\n",
    "    percentile75 = df[col].quantile(0.75)\n",
    "    print('\\n ####', col , '####')\n",
    "    print(\"percentile25\",percentile25)\n",
    "    print(\"percentile75\",percentile75)\n",
    "    iqr = percentile75 - percentile25\n",
    "    upper_limit = percentile75 + 1.5 * iqr\n",
    "    lower_limit = percentile25 - 1.5 * iqr\n",
    "    print(\"Upper limit\",upper_limit)\n",
    "    print(\"Lower limit\",lower_limit)\n",
    "    df.loc[(df[col]>upper_limit), col]= upper_limit\n",
    "    df.loc[(df[col]<lower_limit), col]= lower_limit    \n",
    "    return df"
   ]
  },
  {
   "cell_type": "code",
   "execution_count": null,
   "metadata": {},
   "outputs": [
    {
     "name": "stdout",
     "output_type": "stream",
     "text": [
      "\n",
      " #### other_united_states ####\n",
      "percentile25 8057.25\n",
      "percentile75 32203.75\n",
      "Upper limit 68423.5\n",
      "Lower limit -28162.5\n",
      "\n",
      " #### other_new_england ####\n",
      "percentile25 632.25\n",
      "percentile75 885.0\n",
      "Upper limit 1264.125\n",
      "Lower limit 253.125\n",
      "\n",
      " #### other_connecticut ####\n",
      "percentile25 60.0\n",
      "percentile75 74.0\n",
      "Upper limit 95.0\n",
      "Lower limit 39.0\n",
      "\n",
      " #### other_maine ####\n",
      "percentile25 321.5\n",
      "percentile75 397.75\n",
      "Upper limit 512.125\n",
      "Lower limit 207.125\n",
      "\n",
      " #### wind_minnesota ####\n",
      "percentile25 177.0\n",
      "percentile75 907.5\n",
      "Upper limit 2003.25\n",
      "Lower limit -918.75\n",
      "\n",
      " #### wind_california ####\n",
      "percentile25 396.0\n",
      "percentile75 1096.5\n",
      "Upper limit 2147.25\n",
      "Lower limit -654.75\n",
      "\n",
      " #### wind_united_states ####\n",
      "percentile25 2365.0\n",
      "percentile75 21095.25\n",
      "Upper limit 49190.625\n",
      "Lower limit -25730.375\n"
     ]
    }
   ],
   "source": [
    "for col in continuous_feature:\n",
    "         detect_outliers(col)"
   ]
  },
  {
   "cell_type": "code",
   "execution_count": 108,
   "metadata": {},
   "outputs": [
    {
     "ename": "SyntaxError",
     "evalue": "can't assign to comparison (<ipython-input-108-a40bc151ab73>, line 7)",
     "output_type": "error",
     "traceback": [
      "\u001b[1;36m  File \u001b[1;32m\"<ipython-input-108-a40bc151ab73>\"\u001b[1;36m, line \u001b[1;32m7\u001b[0m\n\u001b[1;33m    df1.wp < quantiles[.8] = 4\u001b[0m\n\u001b[1;37m                              ^\u001b[0m\n\u001b[1;31mSyntaxError\u001b[0m\u001b[1;31m:\u001b[0m can't assign to comparison\n"
     ]
    }
   ],
   "source": [
    "df1 = df  \n",
    "\n",
    "#find quantiles\n",
    "quantiles = df1.quantile([.2, .4, .6, .8])\n",
    "#labeling of groups\n",
    "df1.wp > quantiles[.8] = 5\n",
    "df1.wp < quantiles[.8] = 4\n",
    "df1.wp < quantiles[.6] = 3       \n",
    "df1.wp < quantiles[.4] = 2 \n",
    "df1.wp < quantiles[.2] = 1"
   ]
  },
  {
   "cell_type": "code",
   "execution_count": null,
   "metadata": {},
   "outputs": [],
   "source": [
    "#Date split to month and year\n",
    "\n",
    "#df['date'] =  pd.to_datetime(df['date'], format='%b-%y')\n",
    "#df.date.dt.year\n",
    "#df.date.dt.month\n"
   ]
  },
  {
   "attachments": {},
   "cell_type": "markdown",
   "metadata": {},
   "source": [
    "* **Split Dataframe to X and y**"
   ]
  },
  {
   "attachments": {},
   "cell_type": "markdown",
   "metadata": {},
   "source": [
    "* **Here we set a variable X i.e, independent columns, and a variable y i.e, dependent column as the “other_maine” column.**"
   ]
  },
  {
   "cell_type": "code",
   "execution_count": null,
   "metadata": {},
   "outputs": [
    {
     "name": "stdout",
     "output_type": "stream",
     "text": [
      "(266, 7)\n"
     ]
    },
    {
     "data": {
      "text/plain": [
       "(266, 7)"
      ]
     },
     "execution_count": 62,
     "metadata": {},
     "output_type": "execute_result"
    }
   ],
   "source": [
    "from sklearn.model_selection import train_test_split\n",
    "X = df\n",
    "y = df['other_maine']\n",
    "pd.pandas.set_option(\"display.max_columns\", None)\n",
    "print(df.shape)\n",
    "X.shape"
   ]
  },
  {
   "attachments": {},
   "cell_type": "markdown",
   "metadata": {},
   "source": [
    "* **Check all columns which are in Train data set**"
   ]
  },
  {
   "cell_type": "code",
   "execution_count": null,
   "metadata": {
    "scrolled": false
   },
   "outputs": [
    {
     "name": "stdout",
     "output_type": "stream",
     "text": [
      "['other_united_states', 'other_new_england', 'other_connecticut', 'other_maine', 'wind_minnesota', 'wind_california', 'wind_united_states']\n"
     ]
    },
    {
     "data": {
      "text/plain": [
       "7"
      ]
     },
     "execution_count": 63,
     "metadata": {},
     "output_type": "execute_result"
    }
   ],
   "source": [
    "all_columns  = list(X.columns)\n",
    "\n",
    "print(all_columns) \n",
    "len(all_columns)"
   ]
  },
  {
   "attachments": {},
   "cell_type": "markdown",
   "metadata": {},
   "source": [
    "###  Feature Encoding"
   ]
  },
  {
   "attachments": {},
   "cell_type": "markdown",
   "metadata": {},
   "source": [
    "* **Extracting Categorical features from train set for feature encoding**"
   ]
  },
  {
   "cell_type": "code",
   "execution_count": null,
   "metadata": {},
   "outputs": [
    {
     "name": "stdout",
     "output_type": "stream",
     "text": [
      "Num of Categorical Features : 0\n",
      "[]\n"
     ]
    }
   ],
   "source": [
    "cat_features = [feature for feature in X.columns if X[feature].dtype == 'O']\n",
    "print('Num of Categorical Features :', len(cat_features))\n",
    "print(cat_features)\n"
   ]
  },
  {
   "cell_type": "code",
   "execution_count": null,
   "metadata": {},
   "outputs": [
    {
     "data": {
      "text/plain": [
       "array([348.   , 293.   , 327.   , 277.   , 336.   , 324.   , 323.   ,\n",
       "       365.   , 339.   , 250.   , 299.   , 344.   , 362.   , 309.   ,\n",
       "       346.   , 300.   , 335.   , 358.   , 349.   , 328.   , 318.   ,\n",
       "       351.   , 313.   , 279.   , 296.   , 258.   , 295.   , 286.   ,\n",
       "       317.   , 359.   , 272.   , 284.   , 283.   , 307.   , 294.   ,\n",
       "       274.   , 289.   , 301.   , 360.   , 310.   , 354.   , 278.   ,\n",
       "       326.   , 385.   , 361.   , 304.   , 347.   , 375.   , 355.   ,\n",
       "       282.   , 281.   , 363.   , 330.   , 343.   , 280.   , 377.   ,\n",
       "       390.   , 379.   , 332.   , 340.   , 382.   , 392.   , 338.   ,\n",
       "       352.   , 321.   , 308.   , 373.   , 320.   , 290.   , 356.   ,\n",
       "       345.   , 297.   , 256.   , 364.   , 315.   , 384.   , 357.   ,\n",
       "       380.   , 374.   , 312.   , 303.   , 386.   , 403.   , 399.   ,\n",
       "       302.   , 395.   , 393.   , 413.   , 415.   , 407.   , 394.   ,\n",
       "       292.   , 401.   , 406.   , 422.   , 397.   , 466.   , 442.   ,\n",
       "       405.   , 438.   , 316.   , 419.   , 423.   , 430.   , 439.   ,\n",
       "       341.   , 378.   , 353.   , 412.   , 414.   , 464.   , 443.   ,\n",
       "       276.   , 402.   , 434.   , 314.   , 342.   , 367.   , 501.   ,\n",
       "       489.   , 474.   , 505.   , 396.   , 368.   , 472.   , 512.125,\n",
       "       453.   , 337.   , 329.   , 372.   , 455.   , 487.   , 484.   ,\n",
       "       476.   , 417.   , 331.   , 452.   , 498.   , 398.   , 457.   ,\n",
       "       433.   , 400.   , 288.   , 432.   , 468.   , 319.   , 325.   ,\n",
       "       444.   , 461.   , 467.   , 507.   , 463.   , 411.   , 488.   ,\n",
       "       481.   , 429.   , 416.   ])"
      ]
     },
     "execution_count": 66,
     "metadata": {},
     "output_type": "execute_result"
    }
   ],
   "source": [
    "df['other_maine'].unique()"
   ]
  },
  {
   "cell_type": "code",
   "execution_count": null,
   "metadata": {},
   "outputs": [],
   "source": [
    "df=df.fillna(df.mean())\n"
   ]
  },
  {
   "attachments": {},
   "cell_type": "markdown",
   "metadata": {},
   "source": [
    "* **Checking for Unique variables in each column**"
   ]
  },
  {
   "cell_type": "code",
   "execution_count": null,
   "metadata": {},
   "outputs": [],
   "source": [
    "for feature in cat_features:\n",
    "    print(feature,':', X[feature].nunique())"
   ]
  },
  {
   "attachments": {},
   "cell_type": "markdown",
   "metadata": {},
   "source": [
    "## Pipeline for DataTransformation"
   ]
  },
  {
   "attachments": {},
   "cell_type": "markdown",
   "metadata": {},
   "source": [
    " **One Hot Encoding for Columns which had lesser unique values and not ordinal**"
   ]
  },
  {
   "attachments": {},
   "cell_type": "markdown",
   "metadata": {},
   "source": [
    "* One hot encoding is a process by which categorical variables are converted into a form that could be provided to ML algorithms to do a better job in prediction."
   ]
  },
  {
   "attachments": {},
   "cell_type": "markdown",
   "metadata": {},
   "source": [
    "\n",
    "**Binary Encoder is used for Country which had 170 unique values**\n",
    "* Binary encoding is a combination of Hash encoding and one-hot encoding. In this encoding scheme, the categorical feature is first converted into numerical using an ordinal encoder. Then the numbers are transformed in the binary number. After that binary value is split into different columns.\n",
    "\n",
    "* Binary encoding works really well when there are a high number of categories, Like Countries in our case"
   ]
  },
  {
   "cell_type": "code",
   "execution_count": null,
   "metadata": {},
   "outputs": [
    {
     "name": "stdout",
     "output_type": "stream",
     "text": [
      "<class 'pandas.core.frame.DataFrame'>\n",
      "RangeIndex: 266 entries, 0 to 265\n",
      "Data columns (total 7 columns):\n",
      "other_united_states    266 non-null float64\n",
      "other_new_england      266 non-null float64\n",
      "other_connecticut      266 non-null float64\n",
      "other_maine            266 non-null float64\n",
      "wind_minnesota         266 non-null float64\n",
      "wind_california        266 non-null float64\n",
      "wind_united_states     266 non-null float64\n",
      "dtypes: float64(7)\n",
      "memory usage: 14.6 KB\n"
     ]
    }
   ],
   "source": [
    "df.info()"
   ]
  },
  {
   "cell_type": "code",
   "execution_count": null,
   "metadata": {},
   "outputs": [],
   "source": [
    "# Create Column Transformer with 3 types of transformers\n",
    "from sklearn.preprocessing import StandardScaler\n",
    "from sklearn.compose import ColumnTransformer\n",
    "#from category_encoders.binary import BinaryEncoder\n",
    "num_features = [feature for feature in X.columns if X[feature].dtype != 'O']\n",
    "#oh_columns = ['other_united_states','other_connecticut','other_texas','other_new_england','other_new_hampshire']\n",
    "#bin_columns = ['date']\n",
    "\n",
    "numeric_transformer = StandardScaler()\n",
    "#bin_transformer = BinaryEncoder()\n",
    "#oh_transformer = OneHotEncoder()\n",
    "\n",
    "preprocessor = ColumnTransformer(\n",
    "    [\n",
    "         #('binary' ,bin_transformer, bin_columns),\n",
    "         #(\"oh\", oh_transformer, oh_columns),\n",
    "          (\"num\", numeric_transformer, num_features)\n",
    "    ]\n",
    ")"
   ]
  },
  {
   "attachments": {},
   "cell_type": "markdown",
   "metadata": {},
   "source": [
    "reduce columns to around 20 and do EDA. Dont encode y. just standard scaler on X ."
   ]
  },
  {
   "cell_type": "code",
   "execution_count": null,
   "metadata": {},
   "outputs": [
    {
     "data": {
      "text/plain": [
       "array([ 6025.,  5310.,  5795.,  5827.,  5738.,  5964.,  6244.,  6293.,\n",
       "        5770.,  6050.,  5713.,  6038.,  6599.,  5800.,  6354.,  6543.,\n",
       "        6760.,  7066.,  7056.,  7044.,  6582.,  6559.,  6250.,  6497.,\n",
       "        6500.,  5962.,  6719.,  6674.,  6473.,  6678.,  7009.,  6790.,\n",
       "        6537.,  6548.,  6531.,  7067.,  6888.,  6489.,  7001.,  6895.,\n",
       "        7339.,  7098.,  7267.,  7027.,  6697.,  6851.,  6492.,  7024.,\n",
       "        7004.,  6221.,  7369.,  7201.,  7544.,  7636.,  7565.,  7236.,\n",
       "        7294.,  7182.,  7322.,  7756.,  8435.,  7374.,  8199.,  7860.,\n",
       "        8036.,  7782.,  8121.,  7894.,  7720.,  8295.,  8304.,  8505.,\n",
       "        8668.,  7877.,  8778.,  8693.,  8621.,  8549.,  8371.,  8895.,\n",
       "        8843.,  9362.,  9029.,  9553., 10243.,  9349., 10703., 10971.,\n",
       "       11100., 11145., 10333.,  9514.,  8924., 10647., 10782., 12390.,\n",
       "       11739., 11231., 12950., 12986., 11864., 11467., 11187., 11791.,\n",
       "       10524., 12668., 12810., 13061., 12805., 10901., 14654., 15607.,\n",
       "       14631., 14209., 13107., 13100., 13227., 13791., 15782., 15359.,\n",
       "       14742., 16116., 16650., 18125., 17638., 17284., 14000., 14054.,\n",
       "       13048., 16550., 18589., 17185., 19904., 16996., 20201., 18563.,\n",
       "       18898., 18469., 15726., 15330., 15402., 19225., 18217., 21401.,\n",
       "       21518., 20330., 22810., 23961., 23254., 20954., 18593., 17382.,\n",
       "       18991., 21058., 23030., 21626., 25493., 21001., 25851., 26476.,\n",
       "       23822., 24464., 21044., 19021., 19893., 22718., 26807., 22621.,\n",
       "       23121., 22561., 23943., 26494., 26182., 23454., 22821., 22647.,\n",
       "       24708., 28065., 28602., 26679., 28738., 31084., 29666., 28711.,\n",
       "       26236., 28372., 24465., 26529., 29749., 28819., 32583., 29929.,\n",
       "       30964., 36935., 36514., 35193., 32774., 28588., 26186., 29297.,\n",
       "       35264., 32359., 32246., 35762., 33311., 38256., 38503., 37268.,\n",
       "       38608., 30071., 33296., 30679., 32396., 32077., 34065., 34409.,\n",
       "       32291., 37935., 41238., 38898., 36485., 36724., 34422., 37439.,\n",
       "       39495., 35194., 36268., 38708., 40534., 41951., 43453., 43902.,\n",
       "       45420., 39371., 38389., 36585., 41525., 44699., 43202., 41790.,\n",
       "       38591., 54426., 52588., 52059., 44703., 40003., 45159., 45997.,\n",
       "       47077., 49195., 52094., 52376., 52928., 60735., 64877., 62743.,\n",
       "       55583., 51436., 45015., 46161., 50478., 56144., 52394., 53152.,\n",
       "       56626.])"
      ]
     },
     "execution_count": 75,
     "metadata": {},
     "output_type": "execute_result"
    }
   ],
   "source": [
    "df['other_united_states'].unique()\n"
   ]
  },
  {
   "cell_type": "code",
   "execution_count": null,
   "metadata": {},
   "outputs": [
    {
     "data": {
      "text/plain": [
       "265"
      ]
     },
     "execution_count": 76,
     "metadata": {},
     "output_type": "execute_result"
    }
   ],
   "source": [
    "df['other_united_states'].nunique()\n"
   ]
  },
  {
   "cell_type": "code",
   "execution_count": null,
   "metadata": {},
   "outputs": [],
   "source": [
    "# Apply Column Transformer\n",
    "X = preprocessor.fit_transform(X)\n"
   ]
  },
  {
   "cell_type": "code",
   "execution_count": null,
   "metadata": {},
   "outputs": [
    {
     "name": "stdout",
     "output_type": "stream",
     "text": [
      "float64\n",
      "(266,)\n",
      "(266, 7)\n",
      "(199, 124)\n"
     ]
    }
   ],
   "source": [
    "print(y.dtype)\n",
    "print(y.shape)\n",
    "print(X.shape)\n",
    "print(X_train.shape)"
   ]
  },
  {
   "cell_type": "code",
   "execution_count": null,
   "metadata": {},
   "outputs": [],
   "source": [
    "#import pickle\n",
    "#pickle.dump(preprocessor, open('preprocess.pkl', 'wb'))"
   ]
  },
  {
   "attachments": {},
   "cell_type": "markdown",
   "metadata": {},
   "source": [
    "## Train Test Split"
   ]
  },
  {
   "cell_type": "code",
   "execution_count": null,
   "metadata": {},
   "outputs": [
    {
     "data": {
      "text/plain": [
       "((199, 7), (67, 7))"
      ]
     },
     "execution_count": 79,
     "metadata": {},
     "output_type": "execute_result"
    }
   ],
   "source": [
    "# separate dataset into train and test\n",
    "X_train, X_test, y_train, y_test = train_test_split(X,y,test_size=0.25,random_state=36)\n",
    "X_train.shape, X_test.shape"
   ]
  },
  {
   "attachments": {},
   "cell_type": "markdown",
   "metadata": {},
   "source": [
    "## Model Selection"
   ]
  },
  {
   "attachments": {},
   "cell_type": "markdown",
   "metadata": {},
   "source": [
    "* **Here should understand the Various Classification models with default values from these models we can choose top 4 with Highest Accuracy score and proceed with HyperParameter Tuning**"
   ]
  },
  {
   "cell_type": "code",
   "execution_count": 100,
   "metadata": {},
   "outputs": [],
   "source": [
    "from sklearn.naive_bayes import GaussianNB\n",
    "from sklearn.ensemble import RandomForestClassifier, GradientBoostingClassifier, AdaBoostClassifier\n",
    "from sklearn.linear_model import LogisticRegression\n",
    "from sklearn.neighbors import KNeighborsClassifier\n",
    "from sklearn.metrics import accuracy_score, classification_report, \\\n",
    "                            precision_score, recall_score, f1_score\n",
    "from sklearn.svm import SVC\n",
    "from sklearn.tree import DecisionTreeClassifier\n",
    "#from xgboost import XGBClassifier\n",
    "#from catboost import CatBoostClassifier"
   ]
  },
  {
   "cell_type": "code",
   "execution_count": null,
   "metadata": {},
   "outputs": [],
   "source": [
    "#X_train=X_train.fillna(X_train.mean())\n",
    "#np.isnan(X_train.values.any())\n",
    "X_train[:] = np.nan_to_num(X_train)\n",
    "X_test[:] = np.nan_to_num(X_test)"
   ]
  },
  {
   "cell_type": "code",
   "execution_count": null,
   "metadata": {},
   "outputs": [
    {
     "name": "stdout",
     "output_type": "stream",
     "text": [
      "[ 67  19  48   6  55  45  44  83  58   0  24  63  80  32  65  25  54  58\n",
      "  76  67  68  49  40  69  35   8  22   2  21  14  39  77  49   3  24  13\n",
      "  12  30  45   2  20   4  16  44  30   6  26  78  63  33  72   7  48  47\n",
      "  76  96  79  29  66  89  73  49  66  11  10  45  55  81  68  45  39  78\n",
      "  69  51  62   9  49  89  90  98  92  53  59  94  99  57  70  43  39  31\n",
      "  76  87  42  17  65  59  74  64  44  23   1  30  32  82  37  32  95  87\n",
      "  74  75  93  32  57  72  88  81  34  28  42  97 110  89 106  27  39  96\n",
      " 102 100  82  53 116 118 113 101 102  33  18  90 108 106 112 122 104 141\n",
      " 131 111 129  38  48 121 122 123 118  98 141 125 130  94 125  60  33  62\n",
      "  91  59  71  67 115 117 140 116 132  71   5  22  49  62  67  78 123 109\n",
      " 128 122 101  53  36  67  61  77  42  43  84 153 151 145 154 103  78  79\n",
      "  63  85  72  98 144 156 156 135 156  94  56  83  84  50  86 136 136 140\n",
      " 149 148 146 120  51  40  35  19  52  69 134 152 102 105 137 127 107  15\n",
      "   6  34  66  72 123 126 143  88 156  97  48  98  41  16  76  46 133 138\n",
      " 142 135 155 139  96  91 114  62  80  90 150 147 124 119]\n"
     ]
    }
   ],
   "source": [
    "from sklearn import preprocessing\n",
    "from sklearn import utils\n",
    "\n",
    "#convert y values to categorical values from continuous\n",
    "lab = preprocessing.LabelEncoder()\n",
    "y_transformed = lab.fit_transform(y)\n",
    "\n",
    "#view transformed values\n",
    "print(y_transformed)\n",
    "\n"
   ]
  },
  {
   "cell_type": "code",
   "execution_count": null,
   "metadata": {},
   "outputs": [
    {
     "name": "stdout",
     "output_type": "stream",
     "text": [
      "(199, 7)\n",
      "(199,)\n",
      "float64\n",
      "(67, 7)\n",
      "(67,)\n",
      "float64\n"
     ]
    }
   ],
   "source": [
    "print(X_train.shape)\n",
    "print(y_train.shape)\n",
    "print(y_train.dtype)\n",
    "print(X_test.shape)\n",
    "print(y_test.shape)\n",
    "print(y_test.dtype)\n",
    "\n"
   ]
  },
  {
   "cell_type": "code",
   "execution_count": null,
   "metadata": {},
   "outputs": [
    {
     "name": "stdout",
     "output_type": "stream",
     "text": [
      "     other_united_states  other_new_england  other_connecticut  other_maine  \\\n",
      "0                 6025.0              678.0               75.0      348.000   \n",
      "1                 5310.0              599.0               77.0      293.000   \n",
      "2                 5795.0              660.0               95.0      327.000   \n",
      "3                 5827.0              593.0               92.0      277.000   \n",
      "4                 5738.0              640.0               72.0      336.000   \n",
      "5                 5964.0              633.0               71.0      324.000   \n",
      "6                 6244.0              632.0               72.0      323.000   \n",
      "7                 6293.0              684.0               72.0      365.000   \n",
      "8                 5770.0              635.0               69.0      339.000   \n",
      "9                 6050.0              551.0               69.0      250.000   \n",
      "10                5713.0              604.0               70.0      299.000   \n",
      "11                6038.0              650.0               73.0      344.000   \n",
      "12                6599.0              646.0               67.0      362.000   \n",
      "13                5800.0              574.0               59.0      309.000   \n",
      "14                6354.0              657.0               73.0      346.000   \n",
      "15                6543.0              575.0               67.0      300.000   \n",
      "16                6760.0              621.0               71.0      335.000   \n",
      "17                7066.0              611.0               70.0      339.000   \n",
      "18                7056.0              646.0               73.0      358.000   \n",
      "19                7044.0              644.0               71.0      348.000   \n",
      "20                6582.0              633.0               66.0      349.000   \n",
      "21                6559.0              604.0               66.0      328.000   \n",
      "22                6250.0              596.0               68.0      318.000   \n",
      "23                6497.0              661.0               71.0      351.000   \n",
      "24                6500.0              598.0               62.0      313.000   \n",
      "25                5962.0              534.0               60.0      279.000   \n",
      "26                6719.0              578.0               67.0      296.000   \n",
      "27                6674.0              511.0               67.0      258.000   \n",
      "28                6473.0              567.0               67.0      295.000   \n",
      "29                6678.0              564.0               64.0      286.000   \n",
      "..                   ...                ...                ...          ...   \n",
      "236              36585.0              875.0               82.0      347.000   \n",
      "237              41525.0              873.0               80.0      354.000   \n",
      "238              44699.0              946.0               79.0      423.000   \n",
      "239              43202.0              958.0               78.0      432.000   \n",
      "240              41790.0              964.0               83.0      468.000   \n",
      "241              38591.0              838.0               68.0      374.000   \n",
      "242              54426.0             1259.0               94.0      512.125   \n",
      "243              52588.0              968.0               84.0      386.000   \n",
      "244              52059.0              981.0               93.0      327.000   \n",
      "245              44703.0             1038.0               95.0      390.000   \n",
      "246              40003.0              910.0               93.0      319.000   \n",
      "247              45159.0              871.0               87.0      289.000   \n",
      "248              45997.0              930.0               93.0      358.000   \n",
      "249              47077.0              855.0               75.0      325.000   \n",
      "250              49195.0              985.0               90.0      444.000   \n",
      "251              52094.0              983.0               79.0      461.000   \n",
      "252              52376.0             1065.0               79.0      467.000   \n",
      "253              52928.0             1079.0               86.0      453.000   \n",
      "254              60735.0             1212.0               95.0      507.000   \n",
      "255              64877.0             1129.0               95.0      463.000   \n",
      "256              62743.0             1064.0               95.0      385.000   \n",
      "257              55583.0             1099.0               95.0      378.000   \n",
      "258              51436.0             1158.0               95.0      411.000   \n",
      "259              45015.0             1016.0               95.0      343.000   \n",
      "260              46161.0             1006.0               95.0      362.000   \n",
      "261              50478.0              998.0               89.0      377.000   \n",
      "262              56144.0             1084.0               83.0      488.000   \n",
      "263              52394.0             1070.0               78.0      481.000   \n",
      "264              53152.0              983.0               80.0      429.000   \n",
      "265              56626.0              962.0               75.0      416.000   \n",
      "\n",
      "     wind_minnesota  wind_california  wind_united_states  \n",
      "0              86.0            133.0               389.0  \n",
      "1              73.0            148.0               431.0  \n",
      "2              67.0            300.0               532.0  \n",
      "3              91.0            393.0               685.0  \n",
      "4              73.0            378.0               635.0  \n",
      "5              64.0            438.0               670.0  \n",
      "6              56.0            440.0               635.0  \n",
      "7              49.0            408.0               577.0  \n",
      "8              55.0            293.0               490.0  \n",
      "9              91.0            253.0               607.0  \n",
      "10             97.0            143.0               470.0  \n",
      "11             92.0            172.0               616.0  \n",
      "12             98.0            131.0               811.0  \n",
      "13            103.0            153.0               714.0  \n",
      "14             58.0            267.0               852.0  \n",
      "15             95.0            409.0              1024.0  \n",
      "16             83.0            478.0              1078.0  \n",
      "17             77.0            557.0              1126.0  \n",
      "18             34.0            443.0               890.0  \n",
      "19             58.0            476.0               977.0  \n",
      "20             74.0            295.0               736.0  \n",
      "21             61.0            284.0               734.0  \n",
      "22             76.0            158.0               656.0  \n",
      "23             88.0            149.0               755.0  \n",
      "24             79.0            109.0               632.0  \n",
      "25             92.0            193.0               745.0  \n",
      "26            103.0            326.0              1036.0  \n",
      "27             86.0            424.0              1093.0  \n",
      "28             78.0            453.0              1006.0  \n",
      "29             54.0            549.0              1047.0  \n",
      "..              ...              ...                 ...  \n",
      "236           938.0            797.0             23186.0  \n",
      "237           958.0            868.0             28823.0  \n",
      "238          1132.0            664.0             33129.0  \n",
      "239          1117.0            652.0             32011.0  \n",
      "240           935.0            749.0             30060.0  \n",
      "241           739.0           1097.0             26716.0  \n",
      "242          1143.0           1329.0             39205.0  \n",
      "243          1233.0           1829.0             36158.0  \n",
      "244          1028.0           2030.0             33787.0  \n",
      "245           836.0           1760.0             26672.0  \n",
      "246           666.0           1444.0             21716.0  \n",
      "247           898.0           1525.0             27071.0  \n",
      "248          1006.0           1214.0             28998.0  \n",
      "249          1029.0            915.0             32215.0  \n",
      "250          1337.0            541.0             35751.0  \n",
      "251          1421.0            745.0             39849.0  \n",
      "252          1439.0           1121.0             38080.0  \n",
      "253          1348.0           1125.0             37984.0  \n",
      "254          1399.0           1493.0             43014.0  \n",
      "255          1392.0           1725.0             45960.0  \n",
      "256          1140.0           1815.0             41668.0  \n",
      "257           953.0           1461.0             33483.0  \n",
      "258           805.0           1460.0             29302.0  \n",
      "259           772.0           1095.0             24355.0  \n",
      "260           933.0            898.0             27032.0  \n",
      "261          1227.0           1006.0             32824.0  \n",
      "262          1451.0           1284.0             41826.0  \n",
      "263          1414.0           1207.0             39282.0  \n",
      "264          1205.0           1381.0             39076.0  \n",
      "265          1473.0           1305.0             42015.0  \n",
      "\n",
      "[266 rows x 7 columns]\n"
     ]
    }
   ],
   "source": [
    "print(df)\n"
   ]
  },
  {
   "cell_type": "code",
   "execution_count": null,
   "metadata": {
    "scrolled": false
   },
   "outputs": [
    {
     "ename": "ValueError",
     "evalue": "Unknown label type: 'continuous'",
     "output_type": "error",
     "traceback": [
      "\u001b[1;31m---------------------------------------------------------------------------\u001b[0m",
      "\u001b[1;31mValueError\u001b[0m                                Traceback (most recent call last)",
      "\u001b[1;32m<ipython-input-96-c812a0b6b273>\u001b[0m in \u001b[0;36m<module>\u001b[1;34m\u001b[0m\n\u001b[0;32m     20\u001b[0m \u001b[1;32mfor\u001b[0m \u001b[0mi\u001b[0m \u001b[1;32min\u001b[0m \u001b[0mrange\u001b[0m\u001b[1;33m(\u001b[0m\u001b[0mlen\u001b[0m\u001b[1;33m(\u001b[0m\u001b[0mlist\u001b[0m\u001b[1;33m(\u001b[0m\u001b[0mmodels\u001b[0m\u001b[1;33m)\u001b[0m\u001b[1;33m)\u001b[0m\u001b[1;33m)\u001b[0m\u001b[1;33m:\u001b[0m\u001b[1;33m\u001b[0m\u001b[1;33m\u001b[0m\u001b[0m\n\u001b[0;32m     21\u001b[0m     \u001b[0mmodel\u001b[0m \u001b[1;33m=\u001b[0m \u001b[0mlist\u001b[0m\u001b[1;33m(\u001b[0m\u001b[0mmodels\u001b[0m\u001b[1;33m.\u001b[0m\u001b[0mvalues\u001b[0m\u001b[1;33m(\u001b[0m\u001b[1;33m)\u001b[0m\u001b[1;33m)\u001b[0m\u001b[1;33m[\u001b[0m\u001b[0mi\u001b[0m\u001b[1;33m]\u001b[0m\u001b[1;33m\u001b[0m\u001b[1;33m\u001b[0m\u001b[0m\n\u001b[1;32m---> 22\u001b[1;33m     \u001b[0mmodel\u001b[0m\u001b[1;33m.\u001b[0m\u001b[0mfit\u001b[0m\u001b[1;33m(\u001b[0m\u001b[0mX_train\u001b[0m\u001b[1;33m,\u001b[0m \u001b[0my_train\u001b[0m\u001b[1;33m)\u001b[0m \u001b[1;31m# Train model\u001b[0m\u001b[1;33m\u001b[0m\u001b[1;33m\u001b[0m\u001b[0m\n\u001b[0m\u001b[0;32m     23\u001b[0m \u001b[1;33m\u001b[0m\u001b[0m\n\u001b[0;32m     24\u001b[0m     \u001b[1;31m# Make predictions\u001b[0m\u001b[1;33m\u001b[0m\u001b[1;33m\u001b[0m\u001b[1;33m\u001b[0m\u001b[0m\n",
      "\u001b[1;32mc:\\Users\\dhanu\\Anaconda3\\lib\\site-packages\\sklearn\\linear_model\\logistic.py\u001b[0m in \u001b[0;36mfit\u001b[1;34m(self, X, y, sample_weight)\u001b[0m\n\u001b[0;32m   1287\u001b[0m         X, y = check_X_y(X, y, accept_sparse='csr', dtype=_dtype, order=\"C\",\n\u001b[0;32m   1288\u001b[0m                          accept_large_sparse=solver != 'liblinear')\n\u001b[1;32m-> 1289\u001b[1;33m         \u001b[0mcheck_classification_targets\u001b[0m\u001b[1;33m(\u001b[0m\u001b[0my\u001b[0m\u001b[1;33m)\u001b[0m\u001b[1;33m\u001b[0m\u001b[1;33m\u001b[0m\u001b[0m\n\u001b[0m\u001b[0;32m   1290\u001b[0m         \u001b[0mself\u001b[0m\u001b[1;33m.\u001b[0m\u001b[0mclasses_\u001b[0m \u001b[1;33m=\u001b[0m \u001b[0mnp\u001b[0m\u001b[1;33m.\u001b[0m\u001b[0munique\u001b[0m\u001b[1;33m(\u001b[0m\u001b[0my\u001b[0m\u001b[1;33m)\u001b[0m\u001b[1;33m\u001b[0m\u001b[1;33m\u001b[0m\u001b[0m\n\u001b[0;32m   1291\u001b[0m         \u001b[0mn_samples\u001b[0m\u001b[1;33m,\u001b[0m \u001b[0mn_features\u001b[0m \u001b[1;33m=\u001b[0m \u001b[0mX\u001b[0m\u001b[1;33m.\u001b[0m\u001b[0mshape\u001b[0m\u001b[1;33m\u001b[0m\u001b[1;33m\u001b[0m\u001b[0m\n",
      "\u001b[1;32mc:\\Users\\dhanu\\Anaconda3\\lib\\site-packages\\sklearn\\utils\\multiclass.py\u001b[0m in \u001b[0;36mcheck_classification_targets\u001b[1;34m(y)\u001b[0m\n\u001b[0;32m    169\u001b[0m     if y_type not in ['binary', 'multiclass', 'multiclass-multioutput',\n\u001b[0;32m    170\u001b[0m                       'multilabel-indicator', 'multilabel-sequences']:\n\u001b[1;32m--> 171\u001b[1;33m         \u001b[1;32mraise\u001b[0m \u001b[0mValueError\u001b[0m\u001b[1;33m(\u001b[0m\u001b[1;34m\"Unknown label type: %r\"\u001b[0m \u001b[1;33m%\u001b[0m \u001b[0my_type\u001b[0m\u001b[1;33m)\u001b[0m\u001b[1;33m\u001b[0m\u001b[1;33m\u001b[0m\u001b[0m\n\u001b[0m\u001b[0;32m    172\u001b[0m \u001b[1;33m\u001b[0m\u001b[0m\n\u001b[0;32m    173\u001b[0m \u001b[1;33m\u001b[0m\u001b[0m\n",
      "\u001b[1;31mValueError\u001b[0m: Unknown label type: 'continuous'"
     ]
    }
   ],
   "source": [
    "models = {\n",
    "    #\"Random Forest\": RandomForestClassifier(),\n",
    "   # \"Naive Bayes\": GaussianNB(),\n",
    "    #\"Gradient Boosting\": GradientBoostingClassifier(),\n",
    "    \"Logistic Regression\": LogisticRegression(),\n",
    "   # \"K-Neighbors Classifier\": KNeighborsClassifier(),\n",
    "   # \"XGBClassifier\": XGBClassifier(), \n",
    "   #  \"CatBoosting Classifier\": CatBoostClassifier(verbose=False),\n",
    "     \"Support Vector Classifier\": SVC(),\n",
    "    #\"AdaBoost Classifier\": AdaBoostClassifier()\n",
    "}\n",
    "#X_test.toarray()\n",
    "#X_train.toarray()\n",
    "#X.toarray()\n",
    "#import numpy as np\n",
    "#from scipy.sparse import csr_matrix\n",
    "#temp = csr_matrix(X_train)\n",
    "#X_train = temp.toarray()\n",
    "\n",
    "for i in range(len(list(models))):\n",
    "    model = list(models.values())[i]\n",
    "    model.fit(X_train, y_train) # Train model\n",
    "\n",
    "    # Make predictions\n",
    "    y_train_pred = model.predict(X_train)\n",
    "    y_test_pred = model.predict(X_test)\n",
    "\n",
    "    # Training set performance\n",
    "    model_train_accuracy = accuracy_score(y_train, y_train_pred) # Calculate Accuracy\n",
    "    model_train_f1 = f1_score(y_train, y_train_pred, average='weighted') # Calculate F1-score\n",
    "    model_train_precision = precision_score(y_train, y_train_pred) # Calculate Precision\n",
    "    model_train_recall = recall_score(y_train, y_train_pred) # Calculate Recall\n",
    "\n",
    "\n",
    "    # Test set performance\n",
    "    model_test_accuracy = accuracy_score(y_test, y_test_pred) # Calculate Accuracy\n",
    "    model_test_f1 = f1_score(y_test, y_test_pred, average='weighted') # Calculate F1-score\n",
    "    model_test_precision = precision_score(y_test, y_test_pred) # Calculate Precision\n",
    "    model_test_recall = recall_score(y_test, y_test_pred) # Calculate Recall\n",
    "\n",
    "\n",
    "    print(list(models.keys())[i])\n",
    "    \n",
    "    print('Model performance for Training set')\n",
    "    print(\"- Accuracy: {:.4f}\".format(model_train_accuracy))\n",
    "    print('- F1 score: {:.4f}'.format(model_train_f1))\n",
    "    print('- Precision: {:.4f}'.format(model_train_precision))\n",
    "    print('- Recall: {:.4f}'.format(model_train_recall))\n",
    "    \n",
    "    print('----------------------------------')\n",
    "    \n",
    "    print('Model performance for Test set')\n",
    "    print('- Accuracy: {:.4f}'.format(model_test_accuracy))\n",
    "    print('- F1 score: {:.4f}'.format(model_test_f1))\n",
    "    print('- Precision: {:.4f}'.format(model_test_precision))\n",
    "    print('- Recall: {:.4f}'.format(model_test_recall))\n",
    "    \n",
    "    print('='*35)\n",
    "    print('\\n')"
   ]
  },
  {
   "attachments": {},
   "cell_type": "markdown",
   "metadata": {},
   "source": [
    "### Hyper Parameter Tuning"
   ]
  },
  {
   "cell_type": "code",
   "execution_count": null,
   "metadata": {},
   "outputs": [],
   "source": [
    "knn_params = {\"n_neighbors\": [2, 3, 10, 20, 40, 50]}\n",
    "\n",
    "rf_params = {\"max_depth\": [5, 8, 15, None, 10],\n",
    "             \"max_features\": [5, 7, \"auto\", 8],\n",
    "             \"min_samples_split\": [2, 8, 15, 20],\n",
    "             \"n_estimators\": [100, 200, 500, 1000]}\n",
    "\n",
    "xgboost_params = {\"learning_rate\": [0.1, 0.01],\n",
    "                  \"max_depth\": [5, 8, 12, 20, 30],\n",
    "                  \"n_estimators\": [100, 200, 300],\n",
    "                  \"colsample_bytree\": [0.5, 0.8, 1, 0.3, 0.4]}\n",
    "\n",
    "cat_params = {\"learning_rate\": [0.1, 0.01],\n",
    "              \"max_depth\": [5, 8, 12, 20, 30]}"
   ]
  },
  {
   "cell_type": "code",
   "execution_count": null,
   "metadata": {},
   "outputs": [],
   "source": [
    "randomcv_models = [('KNN', KNeighborsClassifier(), knn_params),\n",
    "                   (\"RF\", RandomForestClassifier(), rf_params),\n",
    "                  # ('XGBoost', XGBClassifier(), xgboost_params),\n",
    "                  # ('CatBoost', CatBoostClassifier(verbose=False), cat_params)\n",
    "                   ]"
   ]
  },
  {
   "cell_type": "code",
   "execution_count": null,
   "metadata": {},
   "outputs": [],
   "source": [
    "from sklearn.model_selection import RandomizedSearchCV\n",
    "\n",
    "model_param = {}\n",
    "for name, model, params in randomcv_models:\n",
    "    rf_random = RandomizedSearchCV(estimator=model,\n",
    "                                   param_distributions=params,\n",
    "                                   n_iter=100,\n",
    "                                   cv=3,\n",
    "                                   verbose=2,\n",
    "                                   n_jobs=-1)\n",
    "    rf_random.fit(X_train, y_train)\n",
    "    model_param[name] = rf_random. best_params_\n",
    "\n",
    "for model_name in model_param:\n",
    "    print(f\"---------------- Best Params for {model_name} -------------------\")\n",
    "    print(model_param[model_name])"
   ]
  },
  {
   "attachments": {},
   "cell_type": "markdown",
   "metadata": {},
   "source": [
    "### Models Re-Trained with Best Parameters"
   ]
  },
  {
   "cell_type": "code",
   "execution_count": null,
   "metadata": {},
   "outputs": [],
   "source": [
    "from sklearn.metrics import roc_auc_score,roc_curve\n",
    "models = {\n",
    "    \"Random Forest\": RandomForestClassifier(n_estimators=1000, min_samples_split=2, max_features= 7, max_depth= None),\n",
    "    \"K-Neighbors Classifier\": KNeighborsClassifier(n_neighbors=10),\n",
    "    #\"XGBClassifier\": XGBClassifier(n_estimators= 200, max_depth= 30, learning_rate= 0.1, colsample_bytree= 0.4, n_jobs=-1), \n",
    "    #\"CatBoosting Classifier\": CatBoostClassifier(max_depth= 12, learning_rate= 0.1,verbose=False),\n",
    "}\n",
    "\n",
    "for i in range(len(list(models))):\n",
    "    model = list(models.values())[i]\n",
    "    model.fit(X_train, y_train) # Train model\n",
    "\n",
    "    # Make predictions\n",
    "    y_train_pred = model.predict(X_train)\n",
    "    y_test_pred = model.predict(X_test)\n",
    "\n",
    "    # Training set performance\n",
    "    model_train_accuracy = accuracy_score(y_train, y_train_pred) # Calculate Accuracy\n",
    "    model_train_f1 = f1_score(y_train, y_train_pred, average='weighted') # Calculate F1-score\n",
    "    model_train_precision = precision_score(y_train, y_train_pred) # Calculate Precision\n",
    "    model_train_recall = recall_score(y_train, y_train_pred) # Calculate Recall\n",
    "    model_train_rocauc_score = roc_auc_score(y_train, y_train_pred)\n",
    "\n",
    "    # Test set performance\n",
    "    model_test_accuracy = accuracy_score(y_test, y_test_pred) # Calculate Accuracy\n",
    "    model_test_f1 = f1_score(y_test, y_test_pred, average='weighted') # Calculate F1-score\n",
    "    model_test_precision = precision_score(y_test, y_test_pred) # Calculate Precision\n",
    "    model_test_recall = recall_score(y_test, y_test_pred) # Calculate Recall\n",
    "    model_test_rocauc_score = roc_auc_score(y_test, y_test_pred) #Calculate Roc\n",
    "\n",
    "\n",
    "\n",
    "    print(list(models.keys())[i])\n",
    "    \n",
    "    print('Model performance for Training set')\n",
    "    print(\"- Accuracy: {:.4f}\".format(model_train_accuracy))\n",
    "    print('- F1 score: {:.4f}'.format(model_train_f1))\n",
    "    print('- Precision: {:.4f}'.format(model_train_precision))\n",
    "    print('- Recall: {:.4f}'.format(model_train_recall))\n",
    "    print('- Roc Auc Score: {:.4f}'.format(model_train_rocauc_score))\n",
    "    \n",
    "    print('----------------------------------')\n",
    "    \n",
    "    print('Model performance for Test set')\n",
    "    print('- Accuracy: {:.4f}'.format(model_test_accuracy))\n",
    "    print('- F1 score: {:.4f}'.format(model_test_f1))\n",
    "    print('- Precision: {:.4f}'.format(model_test_precision))\n",
    "    print('- Recall: {:.4f}'.format(model_test_recall))\n",
    "    print('- Roc Auc Score: {:.4f}'.format(model_test_rocauc_score))\n",
    "    \n",
    "    print('='*35)\n",
    "    print('\\n')"
   ]
  },
  {
   "attachments": {},
   "cell_type": "markdown",
   "metadata": {},
   "source": [
    "### Plot ROC-AUC curve"
   ]
  },
  {
   "cell_type": "code",
   "execution_count": null,
   "metadata": {},
   "outputs": [],
   "source": [
    "from sklearn.metrics import roc_auc_score,roc_curve\n",
    "plt.figure()\n",
    "\n",
    "# Add the models to the list that you want to view on the ROC plot\n",
    "auc_models = [\n",
    "{\n",
    "    'label': 'Random Forest Classifier',\n",
    "    'model': RandomForestClassifier(n_estimators=1000, min_samples_split=2, max_features= 'auto', max_depth= None),\n",
    "    'auc': 0.8618\n",
    "},\n",
    "{\n",
    "    'label': 'XGBoost Classifier',\n",
    "    'model': XGBClassifier(n_estimators= 200, max_depth= 20, learning_rate= 0.1, colsample_bytree= 0.8, n_jobs=-1),\n",
    "    'auc': 0.8073\n",
    "},\n",
    "{\n",
    "    'label': 'KNN Classifier',\n",
    "    'model': KNeighborsClassifier(n_neighbors=10),\n",
    "    'auc': 0.8629 \n",
    "},\n",
    "{\n",
    "    'label': 'CatBoost Classifier',\n",
    "    'model': CatBoostClassifier(max_depth= 12, learning_rate= 0.1,verbose=False),\n",
    "    'auc': 0.8615\n",
    "},\n",
    "    \n",
    "]\n",
    "\n",
    "# Below for loop iterates through your models list\n",
    "for m in auc_models:\n",
    "    model = m['model'] # select the model\n",
    "    model.fit(X_train, y_train) # train the model\n",
    "# Compute False postive rate, and True positive rate\n",
    "    fpr, tpr, thresholds = roc_curve(y_test, model.predict_proba(X_test)[:,1])\n",
    "# Calculate Area under the curve to display on the plot\n",
    "# Now, plot the computed values\n",
    "    plt.plot(fpr, tpr, label='%s ROC (area = %0.2f)' % (m['label'], m['auc']))\n",
    "# Custom settings for the plot \n",
    "plt.plot([0, 1], [0, 1],'r--')\n",
    "plt.xlim([0.0, 1.0])\n",
    "plt.ylim([0.0, 1.05])\n",
    "plt.xlabel('1-Specificity(False Positive Rate)')\n",
    "plt.ylabel('Sensitivity(True Positwive Rate)')\n",
    "plt.title('Receiver Operating Characteristic')\n",
    "plt.legend(loc=\"lower right\")\n",
    "plt.savefig(r\"./images/roc_auc/auc.png\")\n",
    "plt.show()   # Display"
   ]
  },
  {
   "attachments": {},
   "cell_type": "markdown",
   "metadata": {},
   "source": [
    "### Feature Selection for Model Deployment"
   ]
  },
  {
   "cell_type": "code",
   "execution_count": null,
   "metadata": {},
   "outputs": [],
   "source": [
    "best_xgb = XGBClassifier(n_estimators= 200, max_depth= 30, learning_rate= 0.1, colsample_bytree= 0.4, n_jobs=-1)\n",
    "best_xgb = best_xgb.fit(X_train,y_train)\n",
    "xgb_pred = best_xgb.predict(X_test)\n",
    "score = accuracy_score(y_test,xgb_pred)\n",
    "cr = classification_report(y_test,xgb_pred)\n",
    "\n",
    "print(\"FINAL XGB\")\n",
    "print (\"Accuracy Score value: {:.4f}\".format(score))\n",
    "print (cr)"
   ]
  },
  {
   "cell_type": "code",
   "execution_count": null,
   "metadata": {},
   "outputs": [],
   "source": [
    "from sklearn.metrics import ConfusionMatrixDisplay\n",
    "ConfusionMatrixDisplay.from_estimator(best_xgb, X_test, y_test)"
   ]
  },
  {
   "cell_type": "code",
   "execution_count": null,
   "metadata": {},
   "outputs": [],
   "source": [
    "import pickle\n",
    " \n",
    "# Save the trained model as a pickle file.\n",
    "pickle.dump(best_xgb, open('classificationmodel.pkl', 'wb'))"
   ]
  },
  {
   "cell_type": "code",
   "execution_count": null,
   "metadata": {},
   "outputs": [],
   "source": []
  }
 ],
 "metadata": {
  "kernelspec": {
   "display_name": "Python 3 (ipykernel)",
   "language": "python",
   "name": "python3"
  },
  "language_info": {
   "codemirror_mode": {
    "name": "ipython",
    "version": 3
   },
   "file_extension": ".py",
   "mimetype": "text/x-python",
   "name": "python",
   "nbconvert_exporter": "python",
   "pygments_lexer": "ipython3",
   "version": "3.7.3"
  },
  "vscode": {
   "interpreter": {
    "hash": "fe5057b33890e8dd303e21b19623a3798ffaa8a05dcdf7dd3a35472e2b83b2ee"
   }
  }
 },
 "nbformat": 4,
 "nbformat_minor": 2
}
